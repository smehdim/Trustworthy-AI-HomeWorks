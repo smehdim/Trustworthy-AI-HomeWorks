{
  "nbformat": 4,
  "nbformat_minor": 0,
  "metadata": {
    "colab": {
      "provenance": []
    },
    "kernelspec": {
      "name": "python3",
      "display_name": "Python 3"
    },
    "language_info": {
      "name": "python"
    }
  },
  "cells": [
    {
      "cell_type": "code",
      "execution_count": null,
      "metadata": {
        "colab": {
          "base_uri": "https://localhost:8080/"
        },
        "id": "A8KetdQeDeI7",
        "outputId": "d4c7d7c6-6b72-4133-bcd0-8fe2e54d8a81"
      },
      "outputs": [
        {
          "output_type": "stream",
          "name": "stdout",
          "text": [
            "Index(['age', 'insulin', 'blood_glucose', 'blood_pressure', 'category'], dtype='object')\n",
            "Coefficients: [1.83068711 0.860368   0.27795794]\n"
          ]
        }
      ],
      "source": [
        "import pandas as pd\n",
        "import numpy as np\n",
        "from sklearn.model_selection import train_test_split\n",
        "from sklearn.linear_model import LinearRegression\n",
        "from sklearn.metrics import accuracy_score, confusion_matrix, classification_report\n",
        "\n",
        "# Example data loading\n",
        "df = pd.read_csv('/content/health.csv')\n",
        "\n",
        "# Prepare the data for logistic regression\n",
        "X = df[['age', 'insulin', 'blood_pressure']]  # Independent variables\n",
        "y = df['blood_glucose']  # Dependent variable\n",
        "\n",
        "\n",
        "print(df.columns)\n",
        "# Split the data into training and testing sets\n",
        "X_train, X_test, y_train, y_test = train_test_split(X, y, test_size=0.2, random_state=0)\n",
        "\n",
        "# Fit the logistic regression model\n",
        "model = LinearRegression()\n",
        "model.fit(X_train, y_train)\n",
        "\n",
        "# Make predictions\n",
        "y_pred = model.predict(X_test)\n",
        "\n",
        "coefficients = model.coef_\n",
        "\n",
        "# Make predictions\n",
        "# predictions = log_reg.predict(X)\n",
        "\n",
        "# Print out the coefficients\n",
        "print(f'Coefficients: {coefficients}')"
      ]
    },
    {
      "cell_type": "code",
      "source": [
        "print(df['age'].mean()*coefficients[0])"
      ],
      "metadata": {
        "colab": {
          "base_uri": "https://localhost:8080/"
        },
        "id": "ydp73q9uEHyT",
        "outputId": "c842ae9f-c702-4ff7-ef65-947f3c93cf2f"
      },
      "execution_count": null,
      "outputs": [
        {
          "output_type": "stream",
          "name": "stdout",
          "text": [
            "118.85986853067162\n"
          ]
        }
      ]
    },
    {
      "cell_type": "code",
      "source": [
        "print(df['blood_pressure'].mean()*coefficients[2])"
      ],
      "metadata": {
        "colab": {
          "base_uri": "https://localhost:8080/"
        },
        "id": "3U3WFvWzFoZC",
        "outputId": "17a00f69-1f91-4327-9f80-886debea998d"
      },
      "execution_count": null,
      "outputs": [
        {
          "output_type": "stream",
          "name": "stdout",
          "text": [
            "11.545593397298633\n"
          ]
        }
      ]
    },
    {
      "cell_type": "code",
      "source": [
        "print(df['blood_pressure'].mean()*coefficients[2] + df['age'].mean()*coefficients[0])"
      ],
      "metadata": {
        "colab": {
          "base_uri": "https://localhost:8080/"
        },
        "id": "eT4iqONBFttQ",
        "outputId": "b0cef762-685b-40ac-a227-2e9dc727f3e5"
      },
      "execution_count": null,
      "outputs": [
        {
          "output_type": "stream",
          "name": "stdout",
          "text": [
            "130.40546192797026\n"
          ]
        }
      ]
    },
    {
      "cell_type": "code",
      "source": [
        "model.intercept_"
      ],
      "metadata": {
        "colab": {
          "base_uri": "https://localhost:8080/"
        },
        "id": "Dm--SydQHZnp",
        "outputId": "1f47d265-bbc7-4020-c2da-9ab2dc627afa"
      },
      "execution_count": null,
      "outputs": [
        {
          "output_type": "execute_result",
          "data": {
            "text/plain": [
              "0.12453723745875322"
            ]
          },
          "metadata": {},
          "execution_count": 20
        }
      ]
    },
    {
      "cell_type": "markdown",
      "source": [
        "### 2"
      ],
      "metadata": {
        "id": "HFE2E6jCGfvB"
      }
    },
    {
      "cell_type": "code",
      "source": [
        "\n",
        "# Prepare the data for logistic regression\n",
        "X = df[['age', 'insulin']]  # Independent variables\n",
        "y = df['blood_glucose']  # Dependent variable\n",
        "\n",
        "\n",
        "# Split the data into training and testing sets\n",
        "X_train, X_test, y_train, y_test = train_test_split(X, y, test_size=0.2, random_state=0)\n",
        "\n",
        "# Fit the logistic regression model\n",
        "model = LinearRegression()\n",
        "model.fit(X_train, y_train)\n",
        "\n",
        "# Make predictions\n",
        "y_pred = model.predict(X_test)\n",
        "\n",
        "coefficients = model.coef_\n",
        "\n",
        "# Make predictions\n",
        "# predictions = log_reg.predict(X)\n",
        "\n",
        "# Print out the coefficients\n",
        "print(f'Coefficients: {coefficients}')"
      ],
      "metadata": {
        "colab": {
          "base_uri": "https://localhost:8080/"
        },
        "id": "IrCRXifpGfQp",
        "outputId": "27dbe602-0bf5-426d-af96-1c318e06022b"
      },
      "execution_count": null,
      "outputs": [
        {
          "output_type": "stream",
          "name": "stdout",
          "text": [
            "Coefficients: [1.99816895 1.05411635]\n"
          ]
        }
      ]
    },
    {
      "cell_type": "code",
      "source": [
        "print(df['age'].mean()*coefficients[0])"
      ],
      "metadata": {
        "colab": {
          "base_uri": "https://localhost:8080/"
        },
        "id": "PNoFU8TIGsDR",
        "outputId": "b28d41a1-627f-4c8b-92fb-43e5c7bbaa85"
      },
      "execution_count": null,
      "outputs": [
        {
          "output_type": "stream",
          "name": "stdout",
          "text": [
            "129.73385581790492\n"
          ]
        }
      ]
    },
    {
      "cell_type": "code",
      "source": [
        "model.intercept_"
      ],
      "metadata": {
        "colab": {
          "base_uri": "https://localhost:8080/"
        },
        "id": "fSjVx0v7HVfA",
        "outputId": "a1da8b82-11b5-4634-9b56-d86c3e029568"
      },
      "execution_count": null,
      "outputs": [
        {
          "output_type": "execute_result",
          "data": {
            "text/plain": [
              "0.10405539350162485"
            ]
          },
          "metadata": {},
          "execution_count": 23
        }
      ]
    },
    {
      "cell_type": "markdown",
      "source": [
        "### 3"
      ],
      "metadata": {
        "id": "tvMo4sUNHFLR"
      }
    },
    {
      "cell_type": "code",
      "source": [
        "\n",
        "# Prepare the data for logistic regression\n",
        "X = df[['insulin']]  # Independent variables\n",
        "y = df['blood_glucose']  # Dependent variable\n",
        "\n",
        "\n",
        "# Split the data into training and testing sets\n",
        "X_train, X_test, y_train, y_test = train_test_split(X, y, test_size=0.2, random_state=0)\n",
        "\n",
        "# Fit the logistic regression model\n",
        "model = LinearRegression()\n",
        "model.fit(X_train, y_train)\n",
        "\n",
        "# Make predictions\n",
        "y_pred = model.predict(X_test)\n",
        "\n",
        "coefficients = model.coef_\n",
        "\n",
        "\n",
        "# Print out the coefficients\n",
        "print(f'Coefficients: {coefficients}')"
      ],
      "metadata": {
        "colab": {
          "base_uri": "https://localhost:8080/"
        },
        "id": "58h5rFsJHIIy",
        "outputId": "a158e869-d4bc-4cc4-b851-3b7e662f7fca"
      },
      "execution_count": null,
      "outputs": [
        {
          "output_type": "stream",
          "name": "stdout",
          "text": [
            "Coefficients: [3.64987988]\n"
          ]
        }
      ]
    },
    {
      "cell_type": "code",
      "source": [
        "model.intercept_"
      ],
      "metadata": {
        "colab": {
          "base_uri": "https://localhost:8080/"
        },
        "id": "1BAvhDLvHS9J",
        "outputId": "11a7ed25-cbbd-4108-8e41-4e6ad426d8d8"
      },
      "execution_count": null,
      "outputs": [
        {
          "output_type": "execute_result",
          "data": {
            "text/plain": [
              "120.53553990309321"
            ]
          },
          "metadata": {},
          "execution_count": 25
        }
      ]
    }
  ]
}