{
  "metadata": {
    "accelerator": "GPU",
    "colab": {
      "gpuType": "T4",
      "provenance": [],
      "toc_visible": true
    },
    "kernelspec": {
      "name": "python3",
      "display_name": "Python 3",
      "language": "python"
    },
    "language_info": {
      "name": "python",
      "version": "3.10.13",
      "mimetype": "text/x-python",
      "codemirror_mode": {
        "name": "ipython",
        "version": 3
      },
      "pygments_lexer": "ipython3",
      "nbconvert_exporter": "python",
      "file_extension": ".py"
    },
    "kaggle": {
      "accelerator": "gpu",
      "dataSources": [],
      "dockerImageVersionId": 30673,
      "isInternetEnabled": true,
      "language": "python",
      "sourceType": "notebook",
      "isGpuEnabled": true
    }
  },
  "nbformat_minor": 0,
  "nbformat": 4,
  "cells": [
    {
      "cell_type": "code",
      "source": [
        "import torch\n",
        "from torchvision import datasets, transforms\n",
        "\n",
        "\n",
        "transform = transforms.Compose([transforms.ToTensor(), transforms.Normalize((0.4376, 0.4438, 0.4723), (0.2070, 0.2070, 0.2070))])\n",
        "\n",
        "\n",
        "trainset = datasets.SVHN(root='./data', split='train', download=True, transform=transform)\n",
        "trainloader = torch.utils.data.DataLoader(trainset, batch_size=16, shuffle=True)\n",
        "\n",
        "\n",
        "testset = datasets.SVHN(root='./data', split='test', download=True, transform=transform)\n",
        "testloader = torch.utils.data.DataLoader(testset, batch_size=16, shuffle=True)\n"
      ],
      "metadata": {
        "id": "uCmiX7DMfOfg",
        "execution": {
          "iopub.status.busy": "2024-04-07T15:46:40.668720Z",
          "iopub.execute_input": "2024-04-07T15:46:40.669167Z",
          "iopub.status.idle": "2024-04-07T15:47:38.037332Z",
          "shell.execute_reply.started": "2024-04-07T15:46:40.669134Z",
          "shell.execute_reply": "2024-04-07T15:47:38.036506Z"
        },
        "trusted": true
      },
      "execution_count": null,
      "outputs": []
    },
    {
      "cell_type": "markdown",
      "source": [
        "### Standard model"
      ],
      "metadata": {
        "id": "XdSHhS0rKxAS"
      }
    },
    {
      "cell_type": "code",
      "source": [
        "import torch\n",
        "import torch.nn as nn\n",
        "\n",
        "def conv3x3(in_planes, out_planes, stride=1):\n",
        "    return nn.Conv2d(in_planes, out_planes, kernel_size=3, stride=stride, padding=1, bias=False)\n",
        "\n",
        "class BasicBlock(nn.Module):\n",
        "    def __init__(self, inplanes, planes, stride=1, downsample=None):\n",
        "        super(BasicBlock, self).__init__()\n",
        "        self.conv1 = conv3x3(inplanes, planes, stride)\n",
        "        self.bn1 = nn.BatchNorm2d(planes)\n",
        "        self.relu = nn.ReLU(inplace=True)\n",
        "        self.conv2 = conv3x3(planes, planes)\n",
        "        self.bn2 = nn.BatchNorm2d(planes)\n",
        "        self.downsample = downsample\n",
        "        self.stride = stride\n",
        "\n",
        "    def forward(self, x):\n",
        "        residual = x\n",
        "\n",
        "        out = self.conv1(x)\n",
        "        out = self.bn1(out)\n",
        "        out = self.relu(out)\n",
        "\n",
        "        out = self.conv2(out)\n",
        "        out = self.bn2(out)\n",
        "\n",
        "        if self.downsample is not None:\n",
        "            residual = self.downsample(x)\n",
        "\n",
        "        out += residual\n",
        "        out = self.relu(out)\n",
        "\n",
        "        return out\n",
        "\n",
        "class ResNet(nn.Module):\n",
        "    def __init__(self, block, layers, num_classes=10):\n",
        "        super(ResNet, self).__init__()\n",
        "        self.inplanes = 64\n",
        "        self.conv1 = nn.Conv2d(3, 64, kernel_size=7, stride=2, padding=3, bias=False)\n",
        "        self.bn1 = nn.BatchNorm2d(64)\n",
        "        self.relu = nn.ReLU(inplace=True)\n",
        "        self.maxpool = nn.MaxPool2d(kernel_size=3, stride=2, padding=1)\n",
        "        self.layer1 = self._make_layer(block, 64, layers[0])\n",
        "        self.layer2 = self._make_layer(block, 128, layers[1], stride=2)\n",
        "        self.layer3 = self._make_layer(block, 256, layers[2], stride=2)\n",
        "        self.layer4 = self._make_layer(block, 512, layers[3], stride=2)\n",
        "        self.avgpool = nn.AdaptiveAvgPool2d((1, 1))\n",
        "        self.fc = nn.Linear(512, num_classes)\n",
        "\n",
        "\n",
        "    def _make_layer(self, block, planes, blocks, stride=1):\n",
        "        downsample = None\n",
        "        if stride != 1 or self.inplanes != planes:\n",
        "            downsample = nn.Sequential(\n",
        "                nn.Conv2d(self.inplanes, planes, kernel_size=1, stride=stride, bias=False),\n",
        "                nn.BatchNorm2d(planes),\n",
        "            )\n",
        "\n",
        "        layers = []\n",
        "        layers.append(block(self.inplanes, planes, stride, downsample))\n",
        "        self.inplanes = planes\n",
        "        for i in range(1, blocks):\n",
        "            layers.append(block(self.inplanes, planes))\n",
        "\n",
        "        return nn.Sequential(*layers)\n",
        "\n",
        "    def forward(self, x):\n",
        "        x = self.conv1(x)\n",
        "        x = self.bn1(x)\n",
        "        x = self.relu(x)\n",
        "        x = self.maxpool(x)\n",
        "\n",
        "        x = self.layer1(x)\n",
        "        x = self.layer2(x)\n",
        "        x = self.layer3(x)\n",
        "        x = self.layer4(x)\n",
        "\n",
        "        x = self.avgpool(x)\n",
        "        x = torch.flatten(x, 1)\n",
        "        x = self.fc(x)\n",
        "\n",
        "        return x\n",
        "\n",
        "def resnet18(pretrained=False, **kwargs):\n",
        "    model = ResNet(BasicBlock, [2, 2, 2, 2], **kwargs)\n",
        "    return model\n"
      ],
      "metadata": {
        "id": "QQ_NKwSihrcP",
        "execution": {
          "iopub.status.busy": "2024-04-07T16:09:59.825510Z",
          "iopub.execute_input": "2024-04-07T16:09:59.825880Z",
          "iopub.status.idle": "2024-04-07T16:09:59.845469Z",
          "shell.execute_reply.started": "2024-04-07T16:09:59.825850Z",
          "shell.execute_reply": "2024-04-07T16:09:59.844507Z"
        },
        "trusted": true
      },
      "execution_count": null,
      "outputs": []
    },
    {
      "cell_type": "code",
      "source": [
        "import torch\n",
        "import torch.nn as nn\n",
        "import torch.optim as optim\n",
        "import torch.cuda.amp as amp\n",
        "\n",
        "\n",
        "model = resnet18()\n",
        "\n",
        "criterion = nn.CrossEntropyLoss()\n",
        "optimizer = optim.SGD(model.parameters(), lr=0.001, momentum=0.9)\n",
        "\n",
        "\n",
        "num_epochs = 10\n",
        "\n",
        "\n",
        "device = torch.device(\"cuda\" if torch.cuda.is_available() else \"cpu\")\n",
        "model.to(device)\n",
        "\n",
        "\n",
        "def train_model(model, criterion, optimizer, num_epochs, train_loader):\n",
        "    train_losses = []\n",
        "    train_accuracies = []\n",
        "    scaler = amp.GradScaler()\n",
        "\n",
        "    for epoch in range(num_epochs):\n",
        "        model.train()\n",
        "        correct = 0\n",
        "        total = 0\n",
        "        loss_epoch = []\n",
        "\n",
        "        for inputs, labels in train_loader:\n",
        "            inputs, labels = inputs.to(device), labels.to(device)\n",
        "\n",
        "            optimizer.zero_grad()\n",
        "\n",
        "            with amp.autocast():\n",
        "                outputs = model(inputs)\n",
        "                loss = criterion(outputs, labels)\n",
        "\n",
        "            scaler.scale(loss).backward()\n",
        "            scaler.step(optimizer)\n",
        "            scaler.update()\n",
        "\n",
        "            loss_epoch.append(loss.item())\n",
        "\n",
        "            _, predicted = torch.max(outputs.data, 1)\n",
        "            correct += (predicted == labels).sum().item()\n",
        "            total += labels.size(0)\n",
        "\n",
        "        train_losses.append(sum(loss_epoch)/len(loss_epoch))\n",
        "        train_accuracy = correct / total\n",
        "        train_accuracies.append(train_accuracy)\n",
        "\n",
        "        print(f'Epoch {epoch+1}/{num_epochs} - Train Loss: {sum(train_losses)/len(train_losses):.4f}, Train Accuracy: {train_accuracy:.4f}')\n",
        "\n",
        "    return train_losses, train_accuracies\n",
        "\n",
        "train_losses, train_accuracies = train_model(model, criterion, optimizer, num_epochs, trainloader)\n",
        "\n",
        "torch.save(model.state_dict(), 'resnet18_svhn.pth')\n"
      ],
      "metadata": {
        "colab": {
          "base_uri": "https://localhost:8080/"
        },
        "id": "9_vcE81SEiyX",
        "outputId": "c7f10eca-76f0-4303-a6dc-a34be494e190"
      },
      "execution_count": null,
      "outputs": [
        {
          "name": "stdout",
          "output_type": "stream",
          "text": "Epoch 1/10 - Train Loss: 0.7399, Train Accuracy: 0.7640\n\nEpoch 2/10 - Train Loss: 0.5506, Train Accuracy: 0.8903\n\nEpoch 3/10 - Train Loss: 0.4608, Train Accuracy: 0.9154\n\nEpoch 4/10 - Train Loss: 0.4030, Train Accuracy: 0.9317\n\nEpoch 5/10 - Train Loss: 0.3610, Train Accuracy: 0.9425\n\nEpoch 6/10 - Train Loss: 0.3282, Train Accuracy: 0.9509\n\nEpoch 7/10 - Train Loss: 0.3011, Train Accuracy: 0.9584\n\nEpoch 8/10 - Train Loss: 0.2781, Train Accuracy: 0.9642\n\nEpoch 9/10 - Train Loss: 0.2584, Train Accuracy: 0.9684\n\nEpoch 10/10 - Train Loss: 0.2411, Train Accuracy: 0.9732\n"
        }
      ]
    },
    {
      "cell_type": "code",
      "source": [
        "import matplotlib.pyplot as plt\n",
        "\n",
        "def plot_metrics(train_losses, train_accuracies):\n",
        "    epochs = range(1, len(train_losses) + 1)\n",
        "\n",
        "    plt.figure(figsize=(8, 5))\n",
        "\n",
        "    plt.plot(epochs, train_losses, 'b', label='Training loss')\n",
        "    plt.plot(epochs, train_accuracies, 'r', label='Training accuracy')\n",
        "\n",
        "    plt.grid(True)\n",
        "    plt.title('Training Loss and Accuracy (10 Epochs)', fontsize=16)\n",
        "    plt.xlabel('Epoch', fontsize=14)\n",
        "    plt.ylabel('Value', fontsize=14)\n",
        "    plt.legend()\n",
        "    plt.xticks(range(1, len(train_losses) + 1))\n",
        "\n",
        "    plt.show()\n",
        "\n",
        "plot_metrics(train_losses, train_accuracies)"
      ],
      "metadata": {
        "colab": {
          "base_uri": "https://localhost:8080/",
          "height": 494
        },
        "id": "43EqyuBgQXks",
        "outputId": "3b04e4fa-ad75-4730-8f94-689d346cad19"
      },
      "execution_count": null,
      "outputs": [
        {
          "output_type": "display_data",
          "data": {
            "image/png": "[encoded data removed]",
            "text/plain": [
              "<Figure size 800x500 with 1 Axes>"
            ]
          },
          "metadata": {}
        }
      ]
    },
    {
      "cell_type": "code",
      "source": [
        "\n",
        "model.eval()\n",
        "\n",
        "\n",
        "correct = 0\n",
        "total = 0\n",
        "\n",
        "with torch.no_grad():\n",
        "    for data in testloader:\n",
        "\n",
        "        inputs, labels = data\n",
        "\n",
        "\n",
        "        if torch.cuda.is_available():\n",
        "            inputs = inputs.cuda()\n",
        "            labels = labels.cuda()\n",
        "\n",
        "\n",
        "        outputs = model(inputs)\n",
        "\n",
        "\n",
        "        _, predicted = torch.max(outputs.data, 1)\n",
        "        total += labels.size(0)\n",
        "        correct += (predicted == labels).sum().item()\n",
        "\n",
        "\n",
        "accuracy = 100 * correct / total\n",
        "\n",
        "print(f'Accuracy of the model on the test images: {accuracy}%')\n"
      ],
      "metadata": {
        "colab": {
          "base_uri": "https://localhost:8080/"
        },
        "id": "vWtX1oNanVcW",
        "outputId": "968b5073-6eb7-410a-c5a4-55a30fc05f0f"
      },
      "execution_count": null,
      "outputs": [
        {
          "name": "stdout",
          "output_type": "stream",
          "text": "Accuracy of the model on the test images: 92.12507682851874%\n"
        }
      ]
    },
    {
      "cell_type": "code",
      "source": [
        "from torchvision import datasets, transforms\n",
        "\n",
        "\n",
        "transform = transforms.Compose([\n",
        "    transforms.Resize(( 32 , 32)),\n",
        "    transforms.Grayscale(num_output_channels=3),\n",
        "    transforms.ToTensor(),\n",
        "    transforms.Normalize(mean=[0.1307, 0.1307, 0.1307], std=[0.3081, 0.3081, 0.3081]),\n",
        "])\n",
        "\n",
        "mnist_testset = datasets.MNIST(root='./data', train=False, download=True, transform=transform)\n",
        "mnist_testloader = torch.utils.data.DataLoader(mnist_testset, batch_size=64, shuffle=True)\n"
      ],
      "metadata": {
        "id": "KkMzc8_ToYT2"
      },
      "execution_count": null,
      "outputs": []
    },
    {
      "cell_type": "code",
      "source": [
        "\n",
        "model.eval()\n",
        "\n",
        "\n",
        "correct = 0\n",
        "total = 0\n",
        "\n",
        "\n",
        "with torch.no_grad():\n",
        "    for data in mnist_testloader:\n",
        "\n",
        "        inputs, labels = data\n",
        "\n",
        "\n",
        "        if torch.cuda.is_available():\n",
        "            inputs = inputs.cuda()\n",
        "            labels = labels.cuda()\n",
        "\n",
        "\n",
        "        outputs = model(inputs)\n",
        "\n",
        "\n",
        "        _, predicted = torch.max(outputs.data, 1)\n",
        "        total += labels.size(0)\n",
        "        correct += (predicted == labels).sum().item()\n",
        "\n",
        "\n",
        "accuracy = 100 * correct / total\n",
        "\n",
        "print(f'Accuracy of the model on the MNIST test images: {accuracy}%')\n"
      ],
      "metadata": {
        "colab": {
          "base_uri": "https://localhost:8080/"
        },
        "id": "PLHyVC0podM1",
        "outputId": "92519d3f-bf01-47bf-e747-93a92a4f1a62"
      },
      "execution_count": null,
      "outputs": [
        {
          "name": "stdout",
          "output_type": "stream",
          "text": "Accuracy of the model on the MNIST test images: 66.72%\n"
        }
      ]
    },
    {
      "cell_type": "markdown",
      "source": [
        "### Without batch normalization"
      ],
      "metadata": {
        "id": "FgNXHgYhNhh2"
      }
    },
    {
      "cell_type": "code",
      "source": [
        "import torch.nn as nn\n",
        "\n",
        "def conv3x3(in_planes, out_planes, stride=1):\n",
        "    return nn.Conv2d(in_planes, out_planes, kernel_size=3, stride=stride, padding=1, bias=False)\n",
        "\n",
        "class BasicBlockNoBN(nn.Module):\n",
        "    def __init__(self, inplanes, planes, stride=1, downsample=None):\n",
        "        super(BasicBlockNoBN, self).__init__()\n",
        "        self.conv1 = conv3x3(inplanes, planes, stride)\n",
        "        self.relu = nn.ReLU(inplace=True)\n",
        "        self.conv2 = conv3x3(planes, planes)\n",
        "        self.downsample = downsample\n",
        "        self.stride = stride\n",
        "\n",
        "    def forward(self, x):\n",
        "        residual = x\n",
        "\n",
        "        out = self.conv1(x)\n",
        "        out = self.relu(out)\n",
        "\n",
        "        out = self.conv2(out)\n",
        "\n",
        "        if self.downsample is not None:\n",
        "            residual = self.downsample(x)\n",
        "\n",
        "        out += residual\n",
        "        out = self.relu(out)\n",
        "\n",
        "        return out\n",
        "\n",
        "class ResNetNoBN(nn.Module):\n",
        "    def __init__(self, block, layers, num_classes=10):\n",
        "        super(ResNetNoBN, self).__init__()\n",
        "        self.inplanes = 64\n",
        "        self.conv1 = nn.Conv2d(3, 64, kernel_size=7, stride=2, padding=3, bias=False)\n",
        "        self.relu = nn.ReLU(inplace=True)\n",
        "        self.maxpool = nn.MaxPool2d(kernel_size=3, stride=2, padding=1)\n",
        "        self.layer1 = self._make_layer(block, 64, layers[0])\n",
        "        self.layer2 = self._make_layer(block, 128, layers[1], stride=2)\n",
        "        self.layer3 = self._make_layer(block, 256, layers[2], stride=2)\n",
        "        self.layer4 = self._make_layer(block, 512, layers[3], stride=2)\n",
        "        self.avgpool = nn.AdaptiveAvgPool2d((1, 1))\n",
        "        self.fc = nn.Linear(512, num_classes)\n",
        "\n",
        "    def _make_layer(self, block, planes, blocks, stride=1):\n",
        "        downsample = None\n",
        "        if stride != 1 or self.inplanes != planes:\n",
        "            downsample = nn.Sequential(\n",
        "                nn.Conv2d(self.inplanes, planes, kernel_size=1, stride=stride, bias=True),\n",
        "            )\n",
        "\n",
        "        layers = []\n",
        "        layers.append(block(self.inplanes, planes, stride, downsample))\n",
        "        self.inplanes = planes\n",
        "        for i in range(1, blocks):\n",
        "            layers.append(block(self.inplanes, planes))\n",
        "\n",
        "        return nn.Sequential(*layers)\n",
        "\n",
        "    def forward(self, x):\n",
        "        x = self.conv1(x)\n",
        "        x = self.relu(x)\n",
        "        x = self.maxpool(x)\n",
        "\n",
        "        x = self.layer1(x)\n",
        "        x = self.layer2(x)\n",
        "        x = self.layer3(x)\n",
        "        x = self.layer4(x)\n",
        "\n",
        "        x = self.avgpool(x)\n",
        "        x = x.view(x.size(0), -1)\n",
        "        x = self.fc(x)\n",
        "\n",
        "        return x\n",
        "\n",
        "def resnet18_no_bn(pretrained=False, **kwargs):\n",
        "    model = ResNetNoBN(BasicBlockNoBN, [2, 2, 2, 2], **kwargs)\n",
        "    return model\n",
        "\n"
      ],
      "metadata": {
        "id": "g0anC_-yNg8H"
      },
      "execution_count": null,
      "outputs": []
    },
    {
      "cell_type": "code",
      "source": [
        "import torch.optim as optim\n",
        "import torch\n",
        "\n",
        "model_no_bn = resnet18_no_bn()\n",
        "\n",
        "\n",
        "\n",
        "criterion = nn.CrossEntropyLoss()\n",
        "optimizer = optim.SGD(model_no_bn.parameters(), lr=0.001, momentum=0.9)\n",
        "\n",
        "\n",
        "num_epochs = 10\n",
        "\n",
        "\n",
        "if torch.cuda.is_available():\n",
        "    model_no_bn = model_no_bn.cuda()\n",
        "\n",
        "\n",
        "epoch_loss = []\n",
        "epoch_accuracy = []\n",
        "\n",
        "\n",
        "for epoch in range(num_epochs):\n",
        "    running_loss = 0.0\n",
        "    total_batches = 0\n",
        "    correct_predictions = 0\n",
        "    total_predictions = 0\n",
        "\n",
        "    for i, data in enumerate(trainloader, 0):\n",
        "\n",
        "        inputs, labels = data\n",
        "\n",
        "\n",
        "        if torch.cuda.is_available():\n",
        "            inputs = inputs.cuda()\n",
        "            labels = labels.cuda()\n",
        "\n",
        "\n",
        "        optimizer.zero_grad()\n",
        "\n",
        "\n",
        "        outputs = model_no_bn(inputs)\n",
        "        loss = criterion(outputs, labels)\n",
        "\n",
        "\n",
        "        loss.backward()\n",
        "        optimizer.step()\n",
        "\n",
        "\n",
        "        running_loss += loss.item()\n",
        "        total_batches += 1\n",
        "\n",
        "\n",
        "        _, predicted = torch.max(outputs, 1)\n",
        "        correct_predictions += (predicted == labels).sum().item()\n",
        "        total_predictions += labels.size(0)\n",
        "\n",
        "\n",
        "    average_loss = running_loss / total_batches\n",
        "    accuracy = correct_predictions / total_predictions\n",
        "    epoch_loss.append(average_loss)\n",
        "    epoch_accuracy.append(accuracy)\n",
        "\n",
        "    print(f'Epoch {epoch+1}, Loss: {average_loss}, Accuracy: {accuracy}')\n",
        "\n",
        "print('Finished Training')"
      ],
      "metadata": {
        "colab": {
          "base_uri": "https://localhost:8080/"
        },
        "id": "-ZQo4kB0HHG6",
        "outputId": "5c7d8f36-e20e-42c3-d154-565bf8366a06"
      },
      "execution_count": null,
      "outputs": [
        {
          "output_type": "stream",
          "name": "stdout",
          "text": [
            "Epoch 1, Loss: 2.0260554918245237, Accuracy: 0.2721241656087473\n",
            "Epoch 2, Loss: 0.6946866986603945, Accuracy: 0.7857542623913073\n",
            "Epoch 3, Loss: 0.4412158994361283, Accuracy: 0.867862456830064\n",
            "Epoch 4, Loss: 0.3551048819157924, Accuracy: 0.893238871370654\n",
            "Epoch 5, Loss: 0.3012252236906822, Accuracy: 0.9090325839168953\n",
            "Epoch 6, Loss: 0.2620664032214883, Accuracy: 0.9214409544480391\n",
            "Epoch 7, Loss: 0.23297000233271642, Accuracy: 0.930846198998048\n",
            "Epoch 8, Loss: 0.2060499514426952, Accuracy: 0.939104795446169\n",
            "Epoch 9, Loss: 0.1817315848748221, Accuracy: 0.9464624540999494\n",
            "Epoch 10, Loss: 0.16344489128682047, Accuracy: 0.9514858648320297\n",
            "Finished Training\n"
          ]
        }
      ]
    },
    {
      "cell_type": "code",
      "source": [
        "import matplotlib.pyplot as plt\n",
        "\n",
        "def plot_metrics(train_losses, train_accuracies):\n",
        "    epochs = range(1, len(train_losses) + 1)\n",
        "\n",
        "    plt.figure(figsize=(8, 5))\n",
        "\n",
        "    plt.plot(epochs, epoch_loss, 'b', label='Training loss')\n",
        "    plt.plot(epochs, epoch_accuracy, 'r', label='Training accuracy')\n",
        "\n",
        "    plt.grid(True)\n",
        "    plt.title('Training Loss and Accuracy (10 Epochs)', fontsize=16)\n",
        "    plt.xlabel('Epoch', fontsize=14)\n",
        "    plt.ylabel('Value', fontsize=14)\n",
        "    plt.legend()\n",
        "    plt.xticks(range(1, len(train_losses) + 1))\n",
        "\n",
        "    plt.show()\n",
        "\n",
        "plot_metrics(epoch_loss, epoch_accuracy)"
      ],
      "metadata": {
        "colab": {
          "base_uri": "https://localhost:8080/",
          "height": 494
        },
        "id": "8db3wIMZDs9V",
        "outputId": "e1c616cc-3559-4867-a183-b8063b97f396"
      },
      "execution_count": null,
      "outputs": [
        {
          "output_type": "display_data",
          "data": {
            "text/plain": [
              "<Figure size 800x500 with 1 Axes>"
            ],
            "image/png": "[encoded data removed]"
          },
          "metadata": {}
        }
      ]
    },
    {
      "cell_type": "code",
      "source": [
        "model_no_bn.eval()\n",
        "\n",
        "correct = 0\n",
        "total = 0\n",
        "\n",
        "\n",
        "with torch.no_grad():\n",
        "    for data in testloader:\n",
        "\n",
        "        inputs, labels = data\n",
        "\n",
        "\n",
        "        if torch.cuda.is_available():\n",
        "            inputs = inputs.cuda()\n",
        "            labels = labels.cuda()\n",
        "\n",
        "\n",
        "        outputs = model_no_bn(inputs)\n",
        "\n",
        "\n",
        "        _, predicted = torch.max(outputs.data, 1)\n",
        "        total += labels.size(0)\n",
        "        correct += (predicted == labels).sum().item()\n",
        "\n",
        "\n",
        "accuracy = 100 * correct / total\n",
        "\n",
        "print(f'Accuracy of the model on the test images: {accuracy}%')\n"
      ],
      "metadata": {
        "colab": {
          "base_uri": "https://localhost:8080/"
        },
        "id": "2rB6Q7FFJsr5",
        "outputId": "027a6867-933c-4ec9-b09a-109ae7eb99a3"
      },
      "execution_count": null,
      "outputs": [
        {
          "name": "stdout",
          "output_type": "stream",
          "text": "Accuracy of the model on the test images: 91.79471419791027%\n"
        }
      ]
    },
    {
      "cell_type": "code",
      "source": [
        "model_no_bn.eval()\n",
        "\n",
        "correct = 0\n",
        "total = 0\n",
        "\n",
        "\n",
        "with torch.no_grad():\n",
        "    for data in mnist_testloader:\n",
        "\n",
        "        inputs, labels = data\n",
        "\n",
        "\n",
        "        if torch.cuda.is_available():\n",
        "            inputs = inputs.cuda()\n",
        "            labels = labels.cuda()\n",
        "\n",
        "\n",
        "        outputs = model_no_bn(inputs)\n",
        "\n",
        "\n",
        "        _, predicted = torch.max(outputs.data, 1)\n",
        "        total += labels.size(0)\n",
        "        correct += (predicted == labels).sum().item()\n",
        "\n",
        "\n",
        "accuracy = 100 * correct / total\n",
        "\n",
        "print(f'Accuracy of the model on the MNIST test images: {accuracy}%')\n"
      ],
      "metadata": {
        "colab": {
          "base_uri": "https://localhost:8080/"
        },
        "id": "8FGv7-3dJ3KE",
        "outputId": "04782a60-72b5-4704-eee4-c21b87c5416d"
      },
      "execution_count": null,
      "outputs": [
        {
          "name": "stdout",
          "output_type": "stream",
          "text": "Accuracy of the model on the MNIST test images: 65.13%\n"
        }
      ]
    },
    {
      "cell_type": "markdown",
      "source": [
        "### Label smoothing"
      ],
      "metadata": {
        "id": "57deDnHuRcv6"
      }
    },
    {
      "cell_type": "code",
      "source": [
        "model_label_smoothing = resnet18()"
      ],
      "metadata": {
        "id": "7HSfEFMbRffC"
      },
      "execution_count": null,
      "outputs": []
    },
    {
      "cell_type": "code",
      "source": [
        "import torch\n",
        "\n",
        "def smooth_labels(labels, num_classes, epsilon=0.1):\n",
        "    # Convert labels to one-hot encoding\n",
        "    one_hot = torch.zeros(labels.size(0), num_classes, device=labels.device)\n",
        "    one_hot.scatter_(1, labels.view(-1, 1), 1)\n",
        "\n",
        "    # Smooth the labels\n",
        "    smoothed_labels = one_hot * (1 - epsilon) + (epsilon / num_classes)\n",
        "\n",
        "    return smoothed_labels\n"
      ],
      "metadata": {
        "id": "Ci56Wgw093hz"
      },
      "execution_count": null,
      "outputs": []
    },
    {
      "cell_type": "code",
      "source": [
        "import torch.optim as optim\n",
        "\n",
        "\n",
        "criterion = nn.CrossEntropyLoss()\n",
        "optimizer = optim.SGD(model_label_smoothing.parameters(), lr=0.001, momentum=0.9)\n",
        "\n",
        "\n",
        "num_epochs = 10\n",
        "\n",
        "\n",
        "if torch.cuda.is_available():\n",
        "    model_label_smoothing = model_label_smoothing.cuda()\n",
        "\n",
        "\n",
        "epoch_loss = []\n",
        "epoch_accuracy = []\n",
        "\n",
        "\n",
        "for epoch in range(num_epochs):\n",
        "    running_loss = 0.0\n",
        "    correct_predictions = 0\n",
        "    total_predictions = 0\n",
        "\n",
        "    for i, data in enumerate(trainloader, 0):\n",
        "\n",
        "        inputs, labels = data\n",
        "        smoothed_labels = smooth_labels(labels,num_classes=10, epsilon=0.25)  # Adjust alpha as needed\n",
        "\n",
        "\n",
        "        if torch.cuda.is_available():\n",
        "            inputs = inputs.cuda()\n",
        "            labels = labels.cuda()\n",
        "            smoothed_labels = smoothed_labels.cuda()\n",
        "\n",
        "        optimizer.zero_grad()\n",
        "\n",
        "\n",
        "        outputs = model_label_smoothing(inputs)\n",
        "        loss = criterion(outputs, smoothed_labels)\n",
        "\n",
        "\n",
        "        loss.backward()\n",
        "        optimizer.step()\n",
        "\n",
        "\n",
        "        running_loss += loss.item()\n",
        "\n",
        "\n",
        "        _, predicted = torch.max(outputs, 1)\n",
        "        correct_predictions += (predicted == labels).sum().item()\n",
        "        total_predictions += labels.size(0)\n",
        "\n",
        "\n",
        "    average_loss = running_loss / len(trainloader)\n",
        "    accuracy = correct_predictions / total_predictions\n",
        "\n",
        "    epoch_loss.append(average_loss)\n",
        "    epoch_accuracy.append(accuracy)\n",
        "\n",
        "    print(f'Epoch {epoch+1}, Loss: {average_loss}, Accuracy: {accuracy}')\n",
        "print('Finished Training')"
      ],
      "metadata": {
        "colab": {
          "base_uri": "https://localhost:8080/"
        },
        "id": "bcSUo1-ETxEw",
        "outputId": "5bcfba03-9ea8-4008-9ca9-250052e50c0a"
      },
      "execution_count": null,
      "outputs": [
        {
          "output_type": "stream",
          "name": "stdout",
          "text": [
            "Epoch 1, Loss: 1.4522394161345162, Accuracy: 0.7593813560478863\n",
            "Epoch 2, Loss: 1.2275493271253495, Accuracy: 0.8927611013282007\n",
            "Epoch 3, Loss: 1.1821260142466938, Accuracy: 0.9175778423904882\n",
            "Epoch 4, Loss: 1.1532702214802735, Accuracy: 0.933617265244277\n",
            "Epoch 5, Loss: 1.1332273490305524, Accuracy: 0.945561516305609\n",
            "Epoch 6, Loss: 1.1169897940357223, Accuracy: 0.9546391471122213\n",
            "Epoch 7, Loss: 1.1046330610928408, Accuracy: 0.9609730128178877\n",
            "Epoch 8, Loss: 1.0915046804569308, Accuracy: 0.968508128916008\n",
            "Epoch 9, Loss: 1.082382672867626, Accuracy: 0.9734086844943145\n",
            "Epoch 10, Loss: 1.074792290233738, Accuracy: 0.9776130608679034\n",
            "Finished Training\n"
          ]
        }
      ]
    },
    {
      "cell_type": "code",
      "source": [
        "plot_metrics(epoch_loss, epoch_accuracy)"
      ],
      "metadata": {
        "colab": {
          "base_uri": "https://localhost:8080/",
          "height": 494
        },
        "id": "gBC8NXUgcjlX",
        "outputId": "e35f0f24-e88c-40ae-d697-0a9d0c616d29"
      },
      "execution_count": null,
      "outputs": [
        {
          "output_type": "display_data",
          "data": {
            "text/plain": [
              "<Figure size 800x500 with 1 Axes>"
            ],
            "image/png": "[encoded data removed]"
          },
          "metadata": {}
        }
      ]
    },
    {
      "cell_type": "code",
      "source": [
        "\n",
        "model_label_smoothing.eval()\n",
        "\n",
        "correct = 0\n",
        "total = 0\n",
        "\n",
        "\n",
        "with torch.no_grad():\n",
        "    for data in testloader:\n",
        "\n",
        "        inputs, labels = data\n",
        "\n",
        "\n",
        "        if torch.cuda.is_available():\n",
        "            inputs = inputs.cuda()\n",
        "            labels = labels.cuda()\n",
        "\n",
        "\n",
        "        outputs = model_label_smoothing(inputs)\n",
        "\n",
        "\n",
        "        _, predicted = torch.max(outputs.data, 1)\n",
        "        total += labels.size(0)\n",
        "        correct += (predicted == labels).sum().item()\n",
        "\n",
        "\n",
        "accuracy = 100 * correct / total\n",
        "\n",
        "print(f'Accuracy of the model on the test images: {accuracy}%')\n"
      ],
      "metadata": {
        "colab": {
          "base_uri": "https://localhost:8080/"
        },
        "id": "s77EfPqACQ7N",
        "outputId": "5ee71828-24d3-4078-9d67-89a208b67984"
      },
      "execution_count": null,
      "outputs": [
        {
          "name": "stdout",
          "output_type": "stream",
          "text": "Accuracy of the model on the test images: 92.27873386601107%\n"
        }
      ]
    },
    {
      "cell_type": "code",
      "source": [
        "\n",
        "model_label_smoothing.eval()\n",
        "\n",
        "\n",
        "correct = 0\n",
        "total = 0\n",
        "\n",
        "\n",
        "with torch.no_grad():\n",
        "    for data in mnist_testloader:\n",
        "\n",
        "        inputs, labels = data\n",
        "\n",
        "\n",
        "        if torch.cuda.is_available():\n",
        "            inputs = inputs.cuda()\n",
        "            labels = labels.cuda()\n",
        "\n",
        "\n",
        "        outputs = model_label_smoothing(inputs)\n",
        "\n",
        "\n",
        "        _, predicted = torch.max(outputs.data, 1)\n",
        "        total += labels.size(0)\n",
        "        correct += (predicted == labels).sum().item()\n",
        "\n",
        "\n",
        "accuracy = 100 * correct / total\n",
        "\n",
        "print(f'Accuracy of the model on the MNIST test images: {accuracy}%')\n"
      ],
      "metadata": {
        "colab": {
          "base_uri": "https://localhost:8080/"
        },
        "id": "o6xo-kmgCtTG",
        "outputId": "a776361f-c4a9-4ab8-df22-e92f31979922"
      },
      "execution_count": null,
      "outputs": [
        {
          "name": "stdout",
          "output_type": "stream",
          "text": "Accuracy of the model on the MNIST test images: 70.89%\n"
        }
      ]
    },
    {
      "cell_type": "markdown",
      "source": [
        "### augmentation"
      ],
      "metadata": {
        "id": "T97-GLcBzU5K"
      }
    },
    {
      "cell_type": "code",
      "source": [
        "import torch\n",
        "from torchvision import datasets, transforms\n",
        "\n",
        "\n",
        "transform_train = transforms.Compose([\n",
        "    transforms.RandomCrop(32, padding=4),\n",
        "    transforms.RandomRotation(degrees=10),\n",
        "    transforms.ColorJitter(brightness=0.4, contrast=0.4, saturation=0.4, hue=0.1),\n",
        "    transforms.ToTensor(),\n",
        "    transforms.Normalize((0.4914, 0.4822, 0.4465), (0.2023, 0.2154, 0.2028)),\n",
        "])\n",
        "\n",
        "transform_test = transforms.Compose([\n",
        "    transforms.ToTensor(),\n",
        "    transforms.Normalize((0.4914, 0.4822, 0.4465), (0.2023, 0.2154, 0.2028)),\n",
        "])\n",
        "\n",
        "\n",
        "trainset = datasets.SVHN(root='./data', split='train', download=True, transform=transform_train)\n",
        "trainloader_aug = torch.utils.data.DataLoader(trainset, batch_size=16, shuffle=True)\n",
        "\n",
        "\n",
        "testset = datasets.SVHN(root='./data', split='test', download=True, transform=transform_test)\n",
        "testloader_aug = torch.utils.data.DataLoader(testset, batch_size=16, shuffle=False)\n"
      ],
      "metadata": {
        "id": "J7wMg4T1EQ5M"
      },
      "execution_count": null,
      "outputs": []
    },
    {
      "cell_type": "code",
      "source": [
        "model_aug = resnet18()\n",
        "\n",
        "import torch.optim as optim\n",
        "\n",
        "criterion = nn.CrossEntropyLoss()\n",
        "optimizer = optim.SGD(model_aug.parameters(), lr=0.001, momentum=0.9)\n",
        "\n",
        "\n",
        "num_epochs = 10\n",
        "\n",
        "\n",
        "if torch.cuda.is_available():\n",
        "    model_aug = model_aug.cuda()\n",
        "\n",
        "\n",
        "epoch_loss_aug = []\n",
        "epoch_accuracy_aug = []\n",
        "\n",
        "\n",
        "for epoch in range(num_epochs):\n",
        "    running_loss = 0.0\n",
        "    correct_predictions = 0\n",
        "    total_predictions = 0\n",
        "\n",
        "    for i, data in enumerate(trainloader_aug, 0):\n",
        "\n",
        "        inputs, labels = data\n",
        "\n",
        "\n",
        "\n",
        "        if torch.cuda.is_available():\n",
        "            inputs = inputs.cuda()\n",
        "            labels = labels.cuda()\n",
        "\n",
        "        optimizer.zero_grad()\n",
        "\n",
        "        outputs = model_aug(inputs)\n",
        "        loss = criterion(outputs, labels)\n",
        "\n",
        "        loss.backward()\n",
        "        optimizer.step()\n",
        "\n",
        "        running_loss += loss.item()\n",
        "\n",
        "        _, predicted = torch.max(outputs, 1)\n",
        "        correct_predictions += (predicted == labels).sum().item()\n",
        "        total_predictions += labels.size(0)\n",
        "\n",
        "    average_loss = running_loss / len(trainloader)\n",
        "    accuracy = correct_predictions / total_predictions\n",
        "\n",
        "    epoch_loss_aug.append(average_loss)\n",
        "    epoch_accuracy_aug.append(accuracy)\n",
        "\n",
        "    print(f'Epoch {epoch+1}, Loss: {average_loss}, Accuracy: {accuracy}')\n",
        "\n",
        "print('Finished Training')\n"
      ],
      "metadata": {
        "colab": {
          "base_uri": "https://localhost:8080/"
        },
        "id": "QXLtixXQDUnd",
        "outputId": "31ff36aa-6511-4365-83bd-6908609de7b6"
      },
      "execution_count": null,
      "outputs": [
        {
          "output_type": "stream",
          "name": "stdout",
          "text": [
            "Epoch 1, Loss: 1.381180826513547, Accuracy: 0.5363309990854116\n",
            "Epoch 2, Loss: 0.6535479488157567, Accuracy: 0.7949547483516933\n",
            "Epoch 3, Loss: 0.523550896024074, Accuracy: 0.8368483557885253\n",
            "Epoch 4, Loss: 0.4663366951118747, Accuracy: 0.8555359897347694\n",
            "Epoch 5, Loss: 0.42942124350615973, Accuracy: 0.8674392890781768\n",
            "Epoch 6, Loss: 0.40115359909002646, Accuracy: 0.8761074027055435\n",
            "Epoch 7, Loss: 0.3802179716461157, Accuracy: 0.8820727029498887\n",
            "Epoch 8, Loss: 0.3602624267403164, Accuracy: 0.8894167110310277\n",
            "Epoch 9, Loss: 0.3456153162159343, Accuracy: 0.8945766274895232\n",
            "Epoch 10, Loss: 0.3353338274068693, Accuracy: 0.8980165717951868\n",
            "Finished Training\n"
          ]
        }
      ]
    },
    {
      "cell_type": "code",
      "source": [
        "import matplotlib.pyplot as plt\n",
        "\n",
        "def plot_metrics(train_losses, train_accuracies):\n",
        "    epochs = range(1, len(train_losses) + 1)\n",
        "\n",
        "    plt.figure(figsize=(8, 5))\n",
        "\n",
        "    plt.plot(epochs, train_losses, 'b', label='Training loss')\n",
        "    plt.plot(epochs, train_accuracies, 'r', label='Training accuracy')\n",
        "\n",
        "    plt.grid(True)\n",
        "    plt.title('Training Loss and Accuracy (10 Epochs)', fontsize=16)\n",
        "    plt.xlabel('Epoch', fontsize=14)\n",
        "    plt.ylabel('Value', fontsize=14)\n",
        "    plt.legend()\n",
        "    plt.xticks(range(1, len(train_losses) + 1))\n",
        "\n",
        "    plt.show()\n",
        "\n",
        "plot_metrics(epoch_loss_aug, epoch_accuracy_aug)"
      ],
      "metadata": {
        "id": "v8I3m55VFKJ0",
        "colab": {
          "base_uri": "https://localhost:8080/",
          "height": 494
        },
        "outputId": "d34f7893-b686-4fd2-fa67-9ddd1f7c6060"
      },
      "execution_count": null,
      "outputs": [
        {
          "output_type": "display_data",
          "data": {
            "text/plain": [
              "<Figure size 800x500 with 1 Axes>"
            ],
            "image/png": "[encoded data removed]"
          },
          "metadata": {}
        }
      ]
    },
    {
      "cell_type": "code",
      "source": [
        "\n",
        "model_aug.eval()\n",
        "\n",
        "\n",
        "correct = 0\n",
        "total = 0\n",
        "\n",
        "\n",
        "with torch.no_grad():\n",
        "    for data in testloader_aug:\n",
        "\n",
        "        inputs, labels = data\n",
        "\n",
        "\n",
        "        if torch.cuda.is_available():\n",
        "            inputs = inputs.cuda()\n",
        "            labels = labels.cuda()\n",
        "\n",
        "        outputs = model_aug(inputs)\n",
        "\n",
        "        _, predicted = torch.max(outputs.data, 1)\n",
        "        total += labels.size(0)\n",
        "        correct += (predicted == labels).sum().item()\n",
        "\n",
        "\n",
        "accuracy = 100 * correct / total\n",
        "\n",
        "print(f'Accuracy of the model on the test images: {accuracy}%')\n"
      ],
      "metadata": {
        "id": "SRA2N-xDFgrl",
        "colab": {
          "base_uri": "https://localhost:8080/"
        },
        "outputId": "f568ac48-f127-461a-c717-8dc7e3e74787"
      },
      "execution_count": null,
      "outputs": [
        {
          "output_type": "stream",
          "name": "stdout",
          "text": [
            "Accuracy of the model on the test images: 93.50030731407499%\n"
          ]
        }
      ]
    },
    {
      "cell_type": "code",
      "source": [
        "model_aug.eval()\n",
        "\n",
        "correct = 0\n",
        "total = 0\n",
        "\n",
        "\n",
        "with torch.no_grad():\n",
        "    for data in mnist_testloader:\n",
        "\n",
        "        inputs, labels = data\n",
        "\n",
        "        if torch.cuda.is_available():\n",
        "            inputs = inputs.cuda()\n",
        "            labels = labels.cuda()\n",
        "\n",
        "        outputs = model_aug(inputs)\n",
        "\n",
        "        _, predicted = torch.max(outputs.data, 1)\n",
        "        total += labels.size(0)\n",
        "        correct += (predicted == labels).sum().item()\n",
        "\n",
        "accuracy = 100 * correct / total\n",
        "\n",
        "print(f'Accuracy of the model on the MNIST test images: {accuracy}%')\n"
      ],
      "metadata": {
        "colab": {
          "base_uri": "https://localhost:8080/"
        },
        "id": "Crf1xz2i7iXS",
        "outputId": "c5158562-a9df-42dc-8ea9-5162dff4dbaa"
      },
      "execution_count": null,
      "outputs": [
        {
          "output_type": "stream",
          "name": "stdout",
          "text": [
            "Accuracy of the model on the MNIST test images: 69.13%\n"
          ]
        }
      ]
    },
    {
      "cell_type": "markdown",
      "source": [
        "### Pretrained resnet"
      ],
      "metadata": {
        "id": "2CEcHuyOziMq"
      }
    },
    {
      "cell_type": "code",
      "source": [
        "import torch\n",
        "import torchvision\n",
        "import torchvision.transforms as transforms\n",
        "import torch.nn as nn\n",
        "import torch.optim as optim\n",
        "import torchvision.models as models\n",
        "\n",
        "\n",
        "resnet_pre = models.resnet18(pretrained=True)\n",
        "\n",
        "\n",
        "num_classes = 10\n",
        "resnet_pre.fc = nn.Linear(resnet_pre.fc.in_features, num_classes)\n"
      ],
      "metadata": {
        "id": "RYQOywbizmQK",
        "execution": {
          "iopub.status.busy": "2024-04-07T15:49:40.927062Z",
          "iopub.execute_input": "2024-04-07T15:49:40.927452Z",
          "iopub.status.idle": "2024-04-07T15:49:41.180380Z",
          "shell.execute_reply.started": "2024-04-07T15:49:40.927424Z",
          "shell.execute_reply": "2024-04-07T15:49:41.179443Z"
        },
        "trusted": true
      },
      "execution_count": null,
      "outputs": []
    },
    {
      "cell_type": "code",
      "source": [
        "import torch\n",
        "import torch.nn as nn\n",
        "import torch.optim as optim\n",
        "import torch.cuda.amp as amp\n",
        "\n",
        "\n",
        "\n",
        "criterion = nn.CrossEntropyLoss()\n",
        "optimizer = optim.SGD(resnet_pre.parameters(), lr=0.001, momentum=0.9)\n",
        "\n",
        "\n",
        "num_epochs = 10\n",
        "\n",
        "\n",
        "device = torch.device(\"cuda\" if torch.cuda.is_available() else \"cpu\")\n",
        "resnet_pre.to(device)\n",
        "\n",
        "\n",
        "\n",
        "def train_model(model, criterion, optimizer, num_epochs, train_loader):\n",
        "    train_losses = []\n",
        "    train_accuracies = []\n",
        "    scaler = amp.GradScaler()\n",
        "\n",
        "    for epoch in range(num_epochs):\n",
        "        model.train()\n",
        "        correct = 0\n",
        "        total = 0\n",
        "        loss_epoch = []\n",
        "\n",
        "        for inputs, labels in train_loader:\n",
        "            inputs, labels = inputs.to(device), labels.to(device)\n",
        "\n",
        "            optimizer.zero_grad()\n",
        "\n",
        "            with amp.autocast():\n",
        "                outputs = model(inputs)\n",
        "                loss = criterion(outputs, labels)\n",
        "\n",
        "            scaler.scale(loss).backward()\n",
        "            scaler.step(optimizer)\n",
        "            scaler.update()\n",
        "\n",
        "            loss_epoch.append(loss.item())\n",
        "\n",
        "            _, predicted = torch.max(outputs.data, 1)\n",
        "            correct += (predicted == labels).sum().item()\n",
        "            total += labels.size(0)\n",
        "\n",
        "        train_losses.append(sum(loss_epoch)/len(loss_epoch))\n",
        "        train_accuracy = correct / total\n",
        "        train_accuracies.append(train_accuracy)\n",
        "\n",
        "        print(f'Epoch {epoch+1}/{num_epochs} - Train Loss: {sum(train_losses)/len(train_losses):.4f}, Train Accuracy: {train_accuracy:.4f}')\n",
        "\n",
        "    return train_losses, train_accuracies\n",
        "\n",
        "train_losses_pre, train_accuracies_pre = train_model(resnet_pre, criterion, optimizer, num_epochs, trainloader)\n",
        "\n",
        "\n"
      ],
      "metadata": {
        "execution": {
          "iopub.status.busy": "2024-04-07T15:50:25.838596Z",
          "iopub.execute_input": "2024-04-07T15:50:25.838973Z",
          "iopub.status.idle": "2024-04-07T16:02:40.869390Z",
          "shell.execute_reply.started": "2024-04-07T15:50:25.838945Z",
          "shell.execute_reply": "2024-04-07T16:02:40.868273Z"
        },
        "trusted": true,
        "colab": {
          "base_uri": "https://localhost:8080/"
        },
        "id": "CeDSvMYN0MjJ",
        "outputId": "d9538680-9459-48b9-e702-09ca52311d2a"
      },
      "execution_count": null,
      "outputs": [
        {
          "output_type": "stream",
          "name": "stdout",
          "text": [
            "Epoch 1/10 - Train Loss: 0.6568, Train Accuracy: 0.7947\n",
            "Epoch 2/10 - Train Loss: 0.4986, Train Accuracy: 0.8989\n",
            "Epoch 3/10 - Train Loss: 0.4216, Train Accuracy: 0.9223\n",
            "Epoch 4/10 - Train Loss: 0.3718, Train Accuracy: 0.9351\n",
            "Epoch 5/10 - Train Loss: 0.3355, Train Accuracy: 0.9448\n",
            "Epoch 6/10 - Train Loss: 0.3076, Train Accuracy: 0.9505\n",
            "Epoch 7/10 - Train Loss: 0.2844, Train Accuracy: 0.9576\n",
            "Epoch 8/10 - Train Loss: 0.2653, Train Accuracy: 0.9616\n",
            "Epoch 9/10 - Train Loss: 0.2483, Train Accuracy: 0.9668\n",
            "Epoch 10/10 - Train Loss: 0.2337, Train Accuracy: 0.9692\n"
          ]
        }
      ]
    },
    {
      "cell_type": "code",
      "source": [
        "import matplotlib.pyplot as plt\n",
        "\n",
        "def plot_metrics(train_losses, train_accuracies):\n",
        "    epochs = range(1, len(train_losses) + 1)\n",
        "\n",
        "    plt.figure(figsize=(8, 5))\n",
        "\n",
        "    plt.plot(epochs, train_losses, 'b', label='Training loss')\n",
        "    plt.plot(epochs, train_accuracies, 'r', label='Training accuracy')\n",
        "\n",
        "    plt.grid(True)\n",
        "    plt.title('Training Loss and Accuracy (10 Epochs)', fontsize=16)\n",
        "    plt.xlabel('Epoch', fontsize=14)\n",
        "    plt.ylabel('Value', fontsize=14)\n",
        "    plt.legend()\n",
        "    plt.xticks(range(1, len(train_losses) + 1))\n",
        "\n",
        "    plt.show()\n",
        "\n",
        "plot_metrics(train_losses_pre, train_accuracies_pre)"
      ],
      "metadata": {
        "execution": {
          "iopub.status.busy": "2024-04-07T16:03:20.868256Z",
          "iopub.execute_input": "2024-04-07T16:03:20.869306Z",
          "iopub.status.idle": "2024-04-07T16:03:21.196042Z",
          "shell.execute_reply.started": "2024-04-07T16:03:20.869273Z",
          "shell.execute_reply": "2024-04-07T16:03:21.195155Z"
        },
        "trusted": true,
        "colab": {
          "base_uri": "https://localhost:8080/",
          "height": 494
        },
        "id": "35WFGaRG0MjK",
        "outputId": "23d9af20-90b1-46e2-9b65-eb19463ef237"
      },
      "execution_count": null,
      "outputs": [
        {
          "output_type": "display_data",
          "data": {
            "text/plain": [
              "<Figure size 800x500 with 1 Axes>"
            ],
            "image/png": "[encoded data removed]"
          },
          "metadata": {}
        }
      ]
    },
    {
      "cell_type": "code",
      "source": [
        "\n",
        "resnet_pre.eval()\n",
        "\n",
        "\n",
        "correct = 0\n",
        "total = 0\n",
        "\n",
        "\n",
        "with torch.no_grad():\n",
        "    for data in testloader:\n",
        "\n",
        "        inputs, labels = data\n",
        "\n",
        "        if torch.cuda.is_available():\n",
        "            inputs = inputs.cuda()\n",
        "            labels = labels.cuda()\n",
        "\n",
        "        outputs = resnet_pre(inputs)\n",
        "\n",
        "        _, predicted = torch.max(outputs.data, 1)\n",
        "        total += labels.size(0)\n",
        "        correct += (predicted == labels).sum().item()\n",
        "\n",
        "accuracy = 100 * correct / total\n",
        "\n",
        "print(f'Accuracy of the model on the test images: {accuracy}%')\n"
      ],
      "metadata": {
        "execution": {
          "iopub.status.busy": "2024-04-07T16:03:46.515723Z",
          "iopub.execute_input": "2024-04-07T16:03:46.516343Z",
          "iopub.status.idle": "2024-04-07T16:03:59.067847Z",
          "shell.execute_reply.started": "2024-04-07T16:03:46.516309Z",
          "shell.execute_reply": "2024-04-07T16:03:59.066946Z"
        },
        "trusted": true,
        "colab": {
          "base_uri": "https://localhost:8080/"
        },
        "id": "porM7SGq0MjL",
        "outputId": "44ba4168-838c-448c-9376-472fb81e1125"
      },
      "execution_count": null,
      "outputs": [
        {
          "output_type": "stream",
          "name": "stdout",
          "text": [
            "Accuracy of the model on the test images: 93.56945298094652%\n"
          ]
        }
      ]
    },
    {
      "cell_type": "code",
      "source": [
        "resnet_pre.eval()\n",
        "\n",
        "correct = 0\n",
        "total = 0\n",
        "\n",
        "with torch.no_grad():\n",
        "    for data in mnist_testloader:\n",
        "\n",
        "        inputs, labels = data\n",
        "\n",
        "        if torch.cuda.is_available():\n",
        "            inputs = inputs.cuda()\n",
        "            labels = labels.cuda()\n",
        "\n",
        "        outputs = resnet_pre(inputs)\n",
        "\n",
        "        _, predicted = torch.max(outputs.data, 1)\n",
        "        total += labels.size(0)\n",
        "        correct += (predicted == labels).sum().item()\n",
        "\n",
        "accuracy = 100 * correct / total\n",
        "\n",
        "print(f'Accuracy of the model on the MNIST test images: {accuracy}%')\n"
      ],
      "metadata": {
        "execution": {
          "iopub.status.busy": "2024-04-07T16:05:05.136359Z",
          "iopub.execute_input": "2024-04-07T16:05:05.137196Z",
          "iopub.status.idle": "2024-04-07T16:05:09.704049Z",
          "shell.execute_reply.started": "2024-04-07T16:05:05.137159Z",
          "shell.execute_reply": "2024-04-07T16:05:09.703177Z"
        },
        "trusted": true,
        "colab": {
          "base_uri": "https://localhost:8080/"
        },
        "id": "qvJ3Kk3Z0MjL",
        "outputId": "650656bf-540c-4c19-b466-51da9af02c4b"
      },
      "execution_count": null,
      "outputs": [
        {
          "output_type": "stream",
          "name": "stdout",
          "text": [
            "Accuracy of the model on the MNIST test images: 71.84%\n"
          ]
        }
      ]
    },
    {
      "cell_type": "markdown",
      "source": [
        "### optimizer"
      ],
      "metadata": {
        "id": "eRsLt2LW0MjM"
      }
    },
    {
      "cell_type": "code",
      "source": [
        "model_optimizer = resnet18()\n",
        "\n",
        "\n",
        "criterion = nn.CrossEntropyLoss()\n",
        "optimizer = optim.Adam(model_optimizer.parameters(), lr= 0.001)\n",
        "\n",
        "\n",
        "\n",
        "num_epochs = 10\n",
        "\n",
        "\n",
        "device = torch.device(\"cuda\" if torch.cuda.is_available() else \"cpu\")\n",
        "model_optimizer.to(device)\n",
        "\n",
        "\n",
        "train_losses_opt, train_accuracies_opt = train_model(model_optimizer, criterion, optimizer, num_epochs, trainloader)"
      ],
      "metadata": {
        "execution": {
          "iopub.status.busy": "2024-04-07T16:14:42.297038Z",
          "iopub.execute_input": "2024-04-07T16:14:42.297413Z",
          "iopub.status.idle": "2024-04-07T16:28:01.058480Z",
          "shell.execute_reply.started": "2024-04-07T16:14:42.297379Z",
          "shell.execute_reply": "2024-04-07T16:28:01.057505Z"
        },
        "trusted": true,
        "id": "7YJCXrSS0MjM",
        "outputId": "a2f45535-524f-4ac9-c9c1-c27f93c0c3bd"
      },
      "execution_count": null,
      "outputs": [
        {
          "name": "stdout",
          "text": "Epoch 1/10 - Train Loss: 0.8616, Train Accuracy: 0.7260\nEpoch 2/10 - Train Loss: 0.6472, Train Accuracy: 0.8732\nEpoch 3/10 - Train Loss: 0.5462, Train Accuracy: 0.8984\nEpoch 4/10 - Train Loss: 0.4807, Train Accuracy: 0.9170\nEpoch 5/10 - Train Loss: 0.4335, Train Accuracy: 0.9287\nEpoch 6/10 - Train Loss: 0.3970, Train Accuracy: 0.9379\nEpoch 7/10 - Train Loss: 0.3662, Train Accuracy: 0.9470\nEpoch 8/10 - Train Loss: 0.3403, Train Accuracy: 0.9538\nEpoch 9/10 - Train Loss: 0.3175, Train Accuracy: 0.9603\nEpoch 10/10 - Train Loss: 0.2973, Train Accuracy: 0.9657\n",
          "output_type": "stream"
        }
      ]
    },
    {
      "cell_type": "code",
      "source": [
        "import matplotlib.pyplot as plt\n",
        "\n",
        "def plot_metrics(train_losses, train_accuracies):\n",
        "    epochs = range(1, len(train_losses) + 1)\n",
        "\n",
        "    plt.figure(figsize=(8, 5))\n",
        "\n",
        "    plt.plot(epochs, train_losses, 'b', label='Training loss')\n",
        "    plt.plot(epochs, train_accuracies, 'r', label='Training accuracy')\n",
        "\n",
        "    plt.grid(True)\n",
        "    plt.title('Training Loss and Accuracy (10 Epochs)', fontsize=16)\n",
        "    plt.xlabel('Epoch', fontsize=14)\n",
        "    plt.ylabel('Value', fontsize=14)\n",
        "    plt.legend()\n",
        "    plt.xticks(range(1, len(train_losses) + 1))\n",
        "\n",
        "    plt.show()\n",
        "\n",
        "plot_metrics(train_losses_opt, train_accuracies_opt)"
      ],
      "metadata": {
        "execution": {
          "iopub.status.busy": "2024-04-07T16:35:00.009593Z",
          "iopub.execute_input": "2024-04-07T16:35:00.010419Z",
          "iopub.status.idle": "2024-04-07T16:35:00.316539Z",
          "shell.execute_reply.started": "2024-04-07T16:35:00.010386Z",
          "shell.execute_reply": "2024-04-07T16:35:00.315672Z"
        },
        "trusted": true,
        "id": "4jO-Qswd0MjM",
        "outputId": "1e887fa3-b748-4ea8-aaa7-73b00466e2e0"
      },
      "execution_count": null,
      "outputs": [
        {
          "output_type": "display_data",
          "data": {
            "text/plain": "<Figure size 800x500 with 1 Axes>",
            "image/png": "[encoded data removed]"
          },
          "metadata": {}
        }
      ]
    },
    {
      "cell_type": "code",
      "source": [
        "model_optimizer.eval()\n",
        "\n",
        "\n",
        "correct = 0\n",
        "total = 0\n",
        "\n",
        "\n",
        "with torch.no_grad():\n",
        "    for data in testloader:\n",
        "\n",
        "        inputs, labels = data\n",
        "\n",
        "        if torch.cuda.is_available():\n",
        "            inputs = inputs.cuda()\n",
        "            labels = labels.cuda()\n",
        "\n",
        "        outputs = model_optimizer(inputs)\n",
        "\n",
        "        _, predicted = torch.max(outputs.data, 1)\n",
        "        total += labels.size(0)\n",
        "        correct += (predicted == labels).sum().item()\n",
        "\n",
        "accuracy = 100 * correct / total\n",
        "\n",
        "print(f'Accuracy of the model on the test images: {accuracy}%')\n"
      ],
      "metadata": {
        "execution": {
          "iopub.status.busy": "2024-04-07T16:28:49.245641Z",
          "iopub.execute_input": "2024-04-07T16:28:49.246034Z",
          "iopub.status.idle": "2024-04-07T16:29:01.463295Z",
          "shell.execute_reply.started": "2024-04-07T16:28:49.246005Z",
          "shell.execute_reply": "2024-04-07T16:29:01.462415Z"
        },
        "trusted": true,
        "id": "1sIeXD4C0MjM",
        "outputId": "bb040ea6-25a6-4d55-da94-b171a2a752b8"
      },
      "execution_count": null,
      "outputs": [
        {
          "name": "stdout",
          "text": "Accuracy of the model on the test images: 92.44775660725261%\n",
          "output_type": "stream"
        }
      ]
    },
    {
      "cell_type": "code",
      "source": [
        "\n",
        "model_optimizer.eval()\n",
        "\n",
        "correct = 0\n",
        "total = 0\n",
        "\n",
        "with torch.no_grad():\n",
        "    for data in mnist_testloader:\n",
        "\n",
        "        inputs, labels = data\n",
        "\n",
        "        if torch.cuda.is_available():\n",
        "            inputs = inputs.cuda()\n",
        "            labels = labels.cuda()\n",
        "\n",
        "        outputs = model_optimizer(inputs)\n",
        "\n",
        "        _, predicted = torch.max(outputs.data, 1)\n",
        "        total += labels.size(0)\n",
        "        correct += (predicted == labels).sum().item()\n",
        "\n",
        "accuracy = 100 * correct / total\n",
        "\n",
        "print(f'Accuracy of the model on the MNIST test images: {accuracy}%')\n"
      ],
      "metadata": {
        "execution": {
          "iopub.status.busy": "2024-04-07T16:29:06.221484Z",
          "iopub.execute_input": "2024-04-07T16:29:06.222358Z",
          "iopub.status.idle": "2024-04-07T16:29:10.763857Z",
          "shell.execute_reply.started": "2024-04-07T16:29:06.222325Z",
          "shell.execute_reply": "2024-04-07T16:29:10.762898Z"
        },
        "trusted": true,
        "id": "UXnjxRAY0MjR",
        "outputId": "3b7fbb6f-6c79-4491-8046-c0d3416a9b5d"
      },
      "execution_count": null,
      "outputs": [
        {
          "name": "stdout",
          "text": "Accuracy of the model on the MNIST test images: 67.05%\n",
          "output_type": "stream"
        }
      ]
    },
    {
      "cell_type": "markdown",
      "source": [
        "### unsupervised"
      ],
      "metadata": {
        "id": "4QLzkek80MjR"
      }
    },
    {
      "cell_type": "code",
      "source": [
        "import torch\n",
        "import torchvision\n",
        "import torchvision.transforms as transforms\n",
        "import torch.nn as nn\n",
        "import torch.optim as optim\n",
        "import torchvision.models as models\n",
        "\n",
        "\n",
        "best_model = models.resnet18(pretrained=True)\n",
        "\n",
        "\n",
        "num_classes = 10\n",
        "best_model.fc = nn.Linear(best_model.fc.in_features, num_classes)\n"
      ],
      "metadata": {
        "execution": {
          "iopub.status.busy": "2024-04-07T20:50:46.547676Z",
          "iopub.execute_input": "2024-04-07T20:50:46.548290Z",
          "iopub.status.idle": "2024-04-07T20:50:46.769273Z",
          "shell.execute_reply.started": "2024-04-07T20:50:46.548258Z",
          "shell.execute_reply": "2024-04-07T20:50:46.768451Z"
        },
        "trusted": true,
        "id": "L8eYx0mZ0MjS"
      },
      "execution_count": null,
      "outputs": []
    },
    {
      "cell_type": "code",
      "source": [
        "def grayscale_to_rgb(image):\n",
        "    \"\"\"Converts a grayscale image to a 3-channel RGB image by replication.\"\"\"\n",
        "    return image.repeat(3, 1, 1)\n",
        "\n",
        "transform_train = transforms.Compose([\n",
        "\n",
        "    transforms.Resize((32, 32)),\n",
        "\n",
        "    transforms.ToTensor(),\n",
        "    transforms.Lambda(grayscale_to_rgb),\n",
        "    transforms.Normalize((0.1307, 0.1307, 0.1307), (0.3081, 0.3081, 0.3081))\n",
        "])\n",
        "\n",
        "transform_test = transforms.Compose([\n",
        "    transforms.Resize((32, 32)),\n",
        "    transforms.ToTensor(),\n",
        "    transforms.Lambda(grayscale_to_rgb),\n",
        "    transforms.Normalize((0.1307, 0.1307, 0.1307), (0.3081, 0.3081, 0.3081))\n",
        "\n",
        "trainset = torchvision.datasets.MNIST(root='./data', train=True, download=True, transform=transform_train)\n",
        "trainloader = torch.utils.data.DataLoader(trainset, batch_size=16, shuffle=True)\n",
        "\n",
        "testset = torchvision.datasets.MNIST(root='./data', train=False, download=True, transform=transform_test)\n",
        "testloader = torch.utils.data.DataLoader(testset, batch_size=16, shuffle=False)\n"
      ],
      "metadata": {
        "execution": {
          "iopub.status.busy": "2024-04-07T20:50:51.123112Z",
          "iopub.execute_input": "2024-04-07T20:50:51.123461Z",
          "iopub.status.idle": "2024-04-07T20:50:51.187044Z",
          "shell.execute_reply.started": "2024-04-07T20:50:51.123433Z",
          "shell.execute_reply": "2024-04-07T20:50:51.186189Z"
        },
        "trusted": true,
        "id": "lVkkiwf50MjS"
      },
      "execution_count": null,
      "outputs": []
    },
    {
      "cell_type": "code",
      "source": [
        "import torch\n",
        "import torch.nn as nn\n",
        "import torch.optim as optim\n",
        "import torch.cuda.amp as amp\n",
        "\n",
        "criterion = nn.CrossEntropyLoss()\n",
        "optimizer = optim.Adam(best_model.parameters(), lr=0.001)\n",
        "\n",
        "\n",
        "num_epochs = 10\n",
        "\n",
        "\n",
        "device = torch.device(\"cuda\" if torch.cuda.is_available() else \"cpu\")\n",
        "best_model.to(device)\n",
        "\n",
        "\n",
        "\n",
        "def train_model(model, criterion, optimizer, num_epochs, train_loader):\n",
        "    train_losses = []\n",
        "    train_accuracies = []\n",
        "    scaler = amp.GradScaler()\n",
        "\n",
        "    for epoch in range(num_epochs):\n",
        "        model.train()\n",
        "        correct = 0\n",
        "        total = 0\n",
        "        loss_epoch = []\n",
        "\n",
        "        for inputs, labels in train_loader:\n",
        "            inputs, labels = inputs.to(device), labels.to(device)\n",
        "\n",
        "            optimizer.zero_grad()\n",
        "\n",
        "            with amp.autocast():\n",
        "                outputs = model(inputs)\n",
        "                loss = criterion(outputs, labels)\n",
        "\n",
        "            scaler.scale(loss).backward()\n",
        "            scaler.step(optimizer)\n",
        "            scaler.update()\n",
        "\n",
        "            loss_epoch.append(loss.item())\n",
        "\n",
        "            _, predicted = torch.max(outputs.data, 1)\n",
        "            correct += (predicted == labels).sum().item()\n",
        "            total += labels.size(0)\n",
        "\n",
        "        train_losses.append(sum(loss_epoch)/len(loss_epoch))\n",
        "        train_accuracy = correct / total\n",
        "        train_accuracies.append(train_accuracy)\n",
        "\n",
        "        print(f'Epoch {epoch+1}/{num_epochs} - Train Loss: {sum(loss_epoch)/len(loss_epoch):.4f}, Train Accuracy: {train_accuracy:.4f}')\n",
        "\n",
        "    return train_losses, train_accuracies\n",
        "\n",
        "train_losses_uns, train_accuracies_uns = train_model(best_model, criterion, optimizer, num_epochs, trainloader)\n",
        ""
      ],
      "metadata": {
        "execution": {
          "iopub.status.busy": "2024-04-07T20:50:53.586771Z",
          "iopub.execute_input": "2024-04-07T20:50:53.587140Z",
          "iopub.status.idle": "2024-04-07T21:02:13.126495Z",
          "shell.execute_reply.started": "2024-04-07T20:50:53.587110Z",
          "shell.execute_reply": "2024-04-07T21:02:13.125688Z"
        },
        "trusted": true,
        "colab": {
          "base_uri": "https://localhost:8080/"
        },
        "id": "QMY7vdi50MjS",
        "outputId": "390972ec-5f9b-4e94-874f-0523dba40e85"
      },
      "execution_count": null,
      "outputs": [
        {
          "output_type": "stream",
          "name": "stdout",
          "text": [
            "Epoch 1/10 - Train Loss: 0.2047, Train Accuracy: 0.9474\n",
            "Epoch 2/10 - Train Loss: 0.0903, Train Accuracy: 0.9783\n",
            "Epoch 3/10 - Train Loss: 0.0672, Train Accuracy: 0.9838\n",
            "Epoch 4/10 - Train Loss: 0.0438, Train Accuracy: 0.9884\n",
            "Epoch 5/10 - Train Loss: 0.0410, Train Accuracy: 0.9896\n",
            "Epoch 6/10 - Train Loss: 0.0338, Train Accuracy: 0.9913\n",
            "Epoch 7/10 - Train Loss: 0.0290, Train Accuracy: 0.9923\n",
            "Epoch 8/10 - Train Loss: 0.0261, Train Accuracy: 0.9937\n",
            "Epoch 9/10 - Train Loss: 0.0196, Train Accuracy: 0.9945\n",
            "Epoch 10/10 - Train Loss: 0.0202, Train Accuracy: 0.9944\n"
          ]
        }
      ]
    },
    {
      "cell_type": "code",
      "source": [
        "plot_metrics(train_losses_uns, train_accuracies_uns)"
      ],
      "metadata": {
        "colab": {
          "base_uri": "https://localhost:8080/",
          "height": 494
        },
        "id": "N-dReYoKAZ9d",
        "outputId": "2c69455d-e682-400a-8d3c-dbaf1377e3f3"
      },
      "execution_count": null,
      "outputs": [
        {
          "output_type": "display_data",
          "data": {
            "text/plain": [
              "<Figure size 800x500 with 1 Axes>"
            ],
            "image/png": "[encoded data removed]"
          },
          "metadata": {}
        }
      ]
    },
    {
      "cell_type": "code",
      "source": [
        " best_model.eval()\n",
        "\n",
        " correct = 0\n",
        "total = 0\n",
        "\n",
        " with torch.no_grad():\n",
        "    for data in testloader:\n",
        "         inputs, labels = data\n",
        "\n",
        "         if torch.cuda.is_available():\n",
        "            inputs = inputs.cuda()\n",
        "            labels = labels.cuda()\n",
        "\n",
        "        outputs = best_model(inputs)\n",
        "\n",
        "        _, predicted = torch.max(outputs.data, 1)\n",
        "        total += labels.size(0)\n",
        "        correct += (predicted == labels).sum().item()\n",
        "\n",
        "\n",
        "accuracy = 100 * correct / total\n",
        "\n",
        "print(f'Accuracy of the model on the MNIST test images: {accuracy}%')\n"
      ],
      "metadata": {
        "execution": {
          "iopub.status.busy": "2024-04-07T21:02:34.621499Z",
          "iopub.execute_input": "2024-04-07T21:02:34.621849Z",
          "iopub.status.idle": "2024-04-07T21:02:39.707065Z",
          "shell.execute_reply.started": "2024-04-07T21:02:34.621820Z",
          "shell.execute_reply": "2024-04-07T21:02:39.706187Z"
        },
        "trusted": true,
        "colab": {
          "base_uri": "https://localhost:8080/"
        },
        "id": "2KeN80QH0MjS",
        "outputId": "8d83c5e7-bbc5-473f-fc86-bd6bba0c326e"
      },
      "execution_count": null,
      "outputs": [
        {
          "output_type": "stream",
          "name": "stdout",
          "text": [
            "Accuracy of the model on the MNIST test images: 99.29%\n"
          ]
        }
      ]
    },
    {
      "cell_type": "code",
      "source": [
        "import torch\n",
        "from torchvision import datasets, transforms\n",
        "\n",
        "svhn_transform = transforms.Compose([transforms.ToTensor(), transforms.Normalize((0.4376, 0.4438, 0.4723), (0.2070, 0.2070, 0.2070))])\n",
        "\n",
        "svhn_testset = datasets.SVHN(root='./data', split='test', download=True, transform=svhn_transform)\n",
        "svhn_testloader = torch.utils.data.DataLoader(svhn_testset, batch_size=16, shuffle=False)\n"
      ],
      "metadata": {
        "execution": {
          "iopub.status.busy": "2024-04-07T21:02:42.702191Z",
          "iopub.execute_input": "2024-04-07T21:02:42.702516Z",
          "iopub.status.idle": "2024-04-07T21:02:43.382320Z",
          "shell.execute_reply.started": "2024-04-07T21:02:42.702492Z",
          "shell.execute_reply": "2024-04-07T21:02:43.381441Z"
        },
        "trusted": true,
        "colab": {
          "base_uri": "https://localhost:8080/"
        },
        "id": "Z-ZCefEj0MjT",
        "outputId": "77a055c0-b7b5-433e-f811-a91f9ae2ac7a"
      },
      "execution_count": 7,
      "outputs": [
        {
          "output_type": "stream",
          "name": "stdout",
          "text": [
            "Using downloaded and verified file: ./data/test_32x32.mat\n"
          ]
        }
      ]
    },
    {
      "cell_type": "code",
      "source": [
        "best_model.eval()\n",
        "\n",
        "correct = 0\n",
        "total = 0\n",
        "\n",
        "with torch.no_grad():\n",
        "    for data in svhn_testloader:\n",
        "        inputs, labels = data\n",
        "\n",
        "        if torch.cuda.is_available():\n",
        "            inputs = inputs.cuda()\n",
        "            labels = labels.cuda()\n",
        "\n",
        "        outputs = best_model(inputs)\n",
        "\n",
        "        _, predicted = torch.max(outputs.data, 1)\n",
        "        total += labels.size(0)\n",
        "        correct += (predicted == labels).sum().item()\n",
        "\n",
        "accuracy = 100 * correct / total\n",
        "\n",
        "print(f'Accuracy of the model on the svhn test images: {accuracy}%')\n"
      ],
      "metadata": {
        "execution": {
          "iopub.status.busy": "2024-04-07T21:03:15.584289Z",
          "iopub.execute_input": "2024-04-07T21:03:15.584626Z",
          "iopub.status.idle": "2024-04-07T21:03:20.110260Z",
          "shell.execute_reply.started": "2024-04-07T21:03:15.584599Z",
          "shell.execute_reply": "2024-04-07T21:03:20.109244Z"
        },
        "trusted": true,
        "colab": {
          "base_uri": "https://localhost:8080/"
        },
        "id": "6nW-gGcp0MjT",
        "outputId": "e27cceab-e159-4315-86c4-14632ce6b3e3"
      },
      "execution_count": null,
      "outputs": [
        {
          "output_type": "stream",
          "name": "stdout",
          "text": [
            "Accuracy of the model on the svhn test images: 27.562231100184388%\n"
          ]
        }
      ]
    },
    {
      "cell_type": "markdown",
      "source": [
        "### supervised"
      ],
      "metadata": {
        "id": "cwCQurm3FTVg"
      }
    },
    {
      "cell_type": "code",
      "source": [
        "svhn_subset_size = 1000\n",
        "\n",
        "svhn_full_testset = datasets.SVHN(root='./data', split='test', download=True, transform=svhn_transform)\n",
        "\n",
        "svhn_subset_indices = torch.randperm(len(svhn_full_testset))[:svhn_subset_size]\n",
        "svhn_subset = torch.utils.data.Subset(svhn_full_testset, svhn_subset_indices)\n"
      ],
      "metadata": {
        "colab": {
          "base_uri": "https://localhost:8080/"
        },
        "id": "d5VrGgPEQpug",
        "outputId": "2a4b6fa7-6ef7-4d2d-9c3e-b8e7ada555c4"
      },
      "execution_count": 8,
      "outputs": [
        {
          "output_type": "stream",
          "name": "stdout",
          "text": [
            "Using downloaded and verified file: ./data/test_32x32.mat\n"
          ]
        }
      ]
    },
    {
      "cell_type": "code",
      "source": [
        "import torch\n",
        "import torch.nn as nn\n",
        "import torch.optim as optim\n",
        "import torch.cuda.amp as amp\n",
        "\n",
        "best_model_sup = models.resnet18(pretrained=True)\n",
        "\n",
        "\n",
        "num_classes = 10\n",
        "best_model_sup.fc = nn.Linear(best_model_sup.fc.in_features, num_classes)\n",
        "\n",
        "\n",
        "criterion = nn.CrossEntropyLoss(label_smoothing=0.25)\n",
        "optimizer = optim.Adam(best_model_sup.parameters(), lr=0.001)\n",
        "\n",
        "num_epochs = 10\n",
        "\n",
        "device = torch.device(\"cuda\" if torch.cuda.is_available() else \"cpu\")\n",
        "best_model_sup.to(device)\n",
        "\n",
        "train_losses_sup, train_accuracies_sup = train_model(best_model_sup, criterion, optimizer, num_epochs, trainloader)\n"
      ],
      "metadata": {
        "colab": {
          "base_uri": "https://localhost:8080/"
        },
        "id": "RuEH3qp1FV2Y",
        "outputId": "4e5d89c8-f2d1-4ceb-a057-200579a4b84a"
      },
      "execution_count": 38,
      "outputs": [
        {
          "output_type": "stream",
          "name": "stderr",
          "text": [
            "/usr/local/lib/python3.10/dist-packages/torchvision/models/_utils.py:208: UserWarning: The parameter 'pretrained' is deprecated since 0.13 and may be removed in the future, please use 'weights' instead.\n",
            "  warnings.warn(\n",
            "/usr/local/lib/python3.10/dist-packages/torchvision/models/_utils.py:223: UserWarning: Arguments other than a weight enum or `None` for 'weights' are deprecated since 0.13 and may be removed in the future. The current behavior is equivalent to passing `weights=ResNet18_Weights.IMAGENET1K_V1`. You can also use `weights=ResNet18_Weights.DEFAULT` to get the most up-to-date weights.\n",
            "  warnings.warn(msg)\n"
          ]
        },
        {
          "output_type": "stream",
          "name": "stdout",
          "text": [
            "Epoch 1/10 - Train Loss: 1.1437, Train Accuracy: 0.9538\n",
            "Epoch 2/10 - Train Loss: 1.0772, Train Accuracy: 0.9819\n",
            "Epoch 3/10 - Train Loss: 1.0597, Train Accuracy: 0.9871\n",
            "Epoch 4/10 - Train Loss: 1.0525, Train Accuracy: 0.9894\n",
            "Epoch 5/10 - Train Loss: 1.0469, Train Accuracy: 0.9917\n",
            "Epoch 6/10 - Train Loss: 1.0433, Train Accuracy: 0.9931\n",
            "Epoch 7/10 - Train Loss: 1.0414, Train Accuracy: 0.9937\n",
            "Epoch 8/10 - Train Loss: 1.0388, Train Accuracy: 0.9950\n",
            "Epoch 9/10 - Train Loss: 1.0377, Train Accuracy: 0.9957\n",
            "Epoch 10/10 - Train Loss: 1.0364, Train Accuracy: 0.9964\n"
          ]
        }
      ]
    },
    {
      "cell_type": "code",
      "source": [
        "plot_metrics(train_losses_sup, train_accuracies_sup)"
      ],
      "metadata": {
        "colab": {
          "base_uri": "https://localhost:8080/",
          "height": 494
        },
        "id": "I-x8j5qMP-0J",
        "outputId": "4ae667a7-533d-48b7-d8ae-4ed83442afc1"
      },
      "execution_count": 51,
      "outputs": [
        {
          "output_type": "display_data",
          "data": {
            "text/plain": [
              "<Figure size 800x500 with 1 Axes>"
            ],
            "image/png": "[encoded data removed]"
          },
          "metadata": {}
        }
      ]
    },
    {
      "cell_type": "code",
      "source": [
        "svhn_subset_size = 1000\n",
        "\n",
        "svhn_full_testset = datasets.SVHN(root='./data', split='test', download=True, transform=svhn_transform)\n",
        "\n",
        "svhn_subset_indices = torch.randperm(len(svhn_full_testset))[:svhn_subset_size]\n",
        "svhn_subset = torch.utils.data.Subset(svhn_full_testset, svhn_subset_indices)\n",
        "\n",
        "svhn_subset_loader = torch.utils.data.DataLoader(svhn_subset, batch_size=16, shuffle=False)"
      ],
      "metadata": {
        "colab": {
          "base_uri": "https://localhost:8080/"
        },
        "id": "9EpjfadMQRog",
        "outputId": "8f70af67-a830-4ccb-88d4-53cb5b2fe9c0"
      },
      "execution_count": 47,
      "outputs": [
        {
          "output_type": "stream",
          "name": "stdout",
          "text": [
            "Using downloaded and verified file: ./data/test_32x32.mat\n"
          ]
        }
      ]
    },
    {
      "cell_type": "code",
      "source": [
        "for param in best_model_sup.parameters():\n",
        "    param.requires_grad = False  #\n",
        "\n",
        "# Unfreeze parameters only for the last layer\n",
        "for param in best_model_sup.fc.parameters():\n",
        "    param.requires_grad = True\n",
        "\n",
        "train_losses = []\n",
        "train_accuracies = []\n",
        "scaler = amp.GradScaler()\n",
        "\n",
        "for epoch in range(num_epochs):\n",
        "    best_model_sup.train()\n",
        "    correct = 0\n",
        "    total = 0\n",
        "    loss_epoch = []\n",
        "\n",
        "    for inputs, labels in svhn_subset_loader:\n",
        "        inputs, labels = inputs.to(device), labels.to(device)\n",
        "\n",
        "        optimizer.zero_grad()\n",
        "\n",
        "        with amp.autocast():\n",
        "            outputs = best_model_sup(inputs)\n",
        "            loss = criterion(outputs, labels)\n",
        "\n",
        "        scaler.scale(loss).backward()\n",
        "        scaler.step(optimizer)\n",
        "        scaler.update()\n",
        "\n",
        "        loss_epoch.append(loss.item())\n",
        "\n",
        "        _, predicted = torch.max(outputs.data, 1)\n",
        "        correct += (predicted == labels).sum().item()\n",
        "        total += labels.size(0)\n",
        "\n",
        "    train_losses.append(sum(loss_epoch)/len(loss_epoch))\n",
        "    train_accuracy = correct / total\n",
        "    train_accuracies.append(train_accuracy)\n",
        "\n",
        "    print(f'Epoch {epoch+1}/{num_epochs} - Train Loss: {sum(loss_epoch)/len(loss_epoch):.4f}, Train Accuracy: {train_accuracy:.4f}')\n"
      ],
      "metadata": {
        "colab": {
          "base_uri": "https://localhost:8080/"
        },
        "id": "QMf9EXU1S81B",
        "outputId": "45038387-1fd4-4dcd-926e-378e5e4c597b"
      },
      "execution_count": 48,
      "outputs": [
        {
          "output_type": "stream",
          "name": "stdout",
          "text": [
            "Epoch 1/10 - Train Loss: 2.1780, Train Accuracy: 0.3570\n",
            "Epoch 2/10 - Train Loss: 2.0474, Train Accuracy: 0.3760\n",
            "Epoch 3/10 - Train Loss: 2.0114, Train Accuracy: 0.3890\n",
            "Epoch 4/10 - Train Loss: 1.9914, Train Accuracy: 0.4000\n",
            "Epoch 5/10 - Train Loss: 1.9767, Train Accuracy: 0.4050\n",
            "Epoch 6/10 - Train Loss: 1.9649, Train Accuracy: 0.4130\n",
            "Epoch 7/10 - Train Loss: 1.9549, Train Accuracy: 0.4260\n",
            "Epoch 8/10 - Train Loss: 1.9462, Train Accuracy: 0.4300\n",
            "Epoch 9/10 - Train Loss: 1.9384, Train Accuracy: 0.4330\n",
            "Epoch 10/10 - Train Loss: 1.9314, Train Accuracy: 0.4390\n"
          ]
        }
      ]
    },
    {
      "cell_type": "code",
      "source": [
        "best_model_sup.eval()\n",
        "\n",
        "\n",
        "correct = 0\n",
        "total = 0\n",
        "\n",
        "with torch.no_grad():\n",
        "    for data in testloader:\n",
        "        inputs, labels = data\n",
        "\n",
        "        if torch.cuda.is_available():\n",
        "            inputs = inputs.cuda()\n",
        "            labels = labels.cuda()\n",
        "\n",
        "        outputs = best_model_sup(inputs)\n",
        "\n",
        "        _, predicted = torch.max(outputs.data, 1)\n",
        "        total += labels.size(0)\n",
        "        correct += (predicted == labels).sum().item()\n",
        "\n",
        "accuracy = 100 * correct / total\n",
        "\n",
        "print(f'Accuracy of the model on the MNIST test images: {accuracy}%')\n"
      ],
      "metadata": {
        "colab": {
          "base_uri": "https://localhost:8080/"
        },
        "id": "X0fXc9FSQH44",
        "outputId": "c1186af8-b372-4a61-9b90-626400d2f65f"
      },
      "execution_count": 49,
      "outputs": [
        {
          "output_type": "stream",
          "name": "stdout",
          "text": [
            "Accuracy of the model on the MNIST test images: 76.89%\n"
          ]
        }
      ]
    },
    {
      "cell_type": "code",
      "source": [
        "best_model_sup.eval()\n",
        "\n",
        "correct = 0\n",
        "total = 0\n",
        "\n",
        "with torch.no_grad():\n",
        "    for data in svhn_testloader:\n",
        "        inputs, labels = data\n",
        "\n",
        "        if torch.cuda.is_available():\n",
        "            inputs = inputs.cuda()\n",
        "            labels = labels.cuda()\n",
        "\n",
        "        outputs = best_model_sup(inputs)\n",
        "\n",
        "        _, predicted = torch.max(outputs.data, 1)\n",
        "        total += labels.size(0)\n",
        "        correct += (predicted == labels).sum().item()\n",
        "\n",
        "accuracy = 100 * correct / total\n",
        "\n",
        "print(f'Accuracy of the model on the svhn test images: {accuracy}%')"
      ],
      "metadata": {
        "colab": {
          "base_uri": "https://localhost:8080/"
        },
        "id": "scKZ3V2GkHhB",
        "outputId": "1f14902d-fc3a-441a-da0f-edab57c42f0a"
      },
      "execution_count": 50,
      "outputs": [
        {
          "output_type": "stream",
          "name": "stdout",
          "text": [
            "Accuracy of the model on the svhn test images: 39.94698832206515%\n"
          ]
        }
      ]
    }
  ]
}